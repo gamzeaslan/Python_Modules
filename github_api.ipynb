{
 "cells": [
  {
   "cell_type": "code",
   "execution_count": 1,
   "id": "d6011e4e",
   "metadata": {},
   "outputs": [],
   "source": [
    "import requests"
   ]
  },
  {
   "cell_type": "code",
   "execution_count": 5,
   "id": "1b3ca4a1",
   "metadata": {},
   "outputs": [],
   "source": [
    "class GitHub:\n",
    "    def __init__(self):\n",
    "        self.api_url=\"https://api.github.com\"\n",
    "        self.token=\"<token_information>\"\n",
    "        \n",
    "    def getUser(self,username):\n",
    "        response=requests.get(self.api_url+\"/users/\"+username)\n",
    "        return response.json()\n",
    "    \n",
    "    def getRepositories(self,username):\n",
    "        response=requests.get(self.api_url+\"/users/\"+username+\"/repos\")\n",
    "        return response.json()\n",
    "    def createRespository(self,name):\n",
    "        response=requests.post(self.api_url+\"/user/repo?access_token\"+self.token,json={\n",
    "        \"name\":name,\n",
    "        \"description\": \"This is your first repository\",\n",
    "        \"homepage\": \"https://sadikturan.com\",\n",
    "        \"private\": False,\n",
    "        \"has_issues\": True,\n",
    "        \"has_projects\": True,\n",
    "        \"has_wiki\": True\n",
    "            \n",
    "        } )\n",
    "        return response.json()                    \n"
   ]
  },
  {
   "cell_type": "code",
   "execution_count": 6,
   "id": "1a3adacc",
   "metadata": {},
   "outputs": [],
   "source": [
    "github=GitHub()"
   ]
  },
  {
   "cell_type": "code",
   "execution_count": 12,
   "id": "0fbe0021",
   "metadata": {},
   "outputs": [
    {
     "name": "stdout",
     "output_type": "stream",
     "text": [
      "1-Find User\n",
      "2-Get Repositories\n",
      "3-Create Repository\n",
      "4-Exit\n",
      "Your Choose: 1\n",
      "usernamegamzeaslan\n",
      "name:Gamze Aslan public repos : 10 follower: 5\n",
      "1-Find User\n",
      "2-Get Repositories\n",
      "3-Create Repository\n",
      "4-Exit\n",
      "Your Choose: 2\n",
      "usernamegamzeaslan\n",
      "Bike_Price_Analysis\n",
      "BTK-PythonTensorflow\n",
      "C_Sharp_Homework\n",
      "Intro_to_Data_Science_With_R\n",
      "Java-projects\n",
      "Jupyter_Notebook_Python_Tutorial\n",
      "Pharmacy_Automation_C_Sharp\n",
      "Python-Tutorial-Code\n",
      "Python_Modules\n",
      "Used_Car_Sales_Analysis\n",
      "1-Find User\n",
      "2-Get Repositories\n",
      "3-Create Repository\n",
      "4-Exit\n",
      "Your Choose: 4\n"
     ]
    }
   ],
   "source": [
    "while True:\n",
    "    choose=input(\"1-Find User\\n2-Get Repositories\\n3-Create Repository\\n4-Exit\\nYour Choose: \")\n",
    "    \n",
    "    if choose==\"4\":\n",
    "        break\n",
    "    else:\n",
    "        if choose==\"1\":\n",
    "            username=input(\"username\")\n",
    "            result=github.getUser(username)\n",
    "            print(f\"name:{result['name']} public repos : {result['public_repos']} follower: {result['followers']}\")\n",
    "        elif choose==\"2\":\n",
    "            username=input(\"username\")\n",
    "            result=github.getRepositories(username)\n",
    "            for repo in result:\n",
    "                print(repo[\"name\"])\n",
    "        elif choose==\"3\":\n",
    "            repo_name=input(\"Repo name: \")\n",
    "            result=github.createRespository(repo_name)\n",
    "            print(results)\n",
    "        else:\n",
    "            print(\"wrong choice\")\n",
    "    "
   ]
  },
  {
   "cell_type": "code",
   "execution_count": null,
   "id": "a3d5772a",
   "metadata": {},
   "outputs": [],
   "source": []
  }
 ],
 "metadata": {
  "kernelspec": {
   "display_name": "Python 3 (ipykernel)",
   "language": "python",
   "name": "python3"
  },
  "language_info": {
   "codemirror_mode": {
    "name": "ipython",
    "version": 3
   },
   "file_extension": ".py",
   "mimetype": "text/x-python",
   "name": "python",
   "nbconvert_exporter": "python",
   "pygments_lexer": "ipython3",
   "version": "3.9.13"
  }
 },
 "nbformat": 4,
 "nbformat_minor": 5
}
