{
 "cells": [
  {
   "cell_type": "code",
   "execution_count": 18,
   "id": "cab427b2",
   "metadata": {},
   "outputs": [],
   "source": [
    "import requests\n",
    "import json"
   ]
  },
  {
   "cell_type": "code",
   "execution_count": 19,
   "id": "760363f9",
   "metadata": {},
   "outputs": [],
   "source": [
    "api_url=\"https://api.exchangerate.host/latest?base=\""
   ]
  },
  {
   "cell_type": "code",
   "execution_count": 20,
   "id": "aedf1696",
   "metadata": {},
   "outputs": [
    {
     "name": "stdout",
     "output_type": "stream",
     "text": [
      "given currency : USD\n",
      "received currency : TRY\n",
      "quantity: 20\n"
     ]
    }
   ],
   "source": [
    "given_currency=input(\"given currency : \")\n",
    "received_currency=input(\"received currency : \")\n",
    "quantity=int(input(\"quantity: \"))"
   ]
  },
  {
   "cell_type": "code",
   "execution_count": 21,
   "id": "730dd675",
   "metadata": {},
   "outputs": [],
   "source": [
    "result=requests.get(api_url+given_currency)"
   ]
  },
  {
   "cell_type": "code",
   "execution_count": 22,
   "id": "37182c4f",
   "metadata": {},
   "outputs": [
    {
     "name": "stdout",
     "output_type": "stream",
     "text": [
      "<Response [200]>\n"
     ]
    }
   ],
   "source": [
    "print(result)"
   ]
  },
  {
   "cell_type": "code",
   "execution_count": 23,
   "id": "9a25cc38",
   "metadata": {},
   "outputs": [
    {
     "name": "stdout",
     "output_type": "stream",
     "text": [
      "{\"motd\":{\"msg\":\"If you or your company use this project or like what we doing, please consider backing us so we can continue maintaining and evolving this project.\",\"url\":\"https://exchangerate.host/#/donate\"},\"success\":true,\"base\":\"USD\",\"date\":\"2022-12-11\",\"rates\":{\"AED\":3.67284,\"AFN\":87.469396,\"ALL\":109.680645,\"AMD\":396.061532,\"ANG\":1.803749,\"AOA\":504.05556,\"ARS\":169.891112,\"AUD\":1.47151,\"AWG\":1.79956,\"AZN\":1.700507,\"BAM\":1.854456,\"BBD\":1.999771,\"BDT\":103.398796,\"BGN\":1.854438,\"BHD\":0.376996,\"BIF\":2062.536175,\"BMD\":1.000326,\"BND\":1.352052,\"BOB\":6.91367,\"BRL\":5.237967,\"BSD\":1.000167,\"BTC\":0.000058,\"BTN\":82.38278,\"BWP\":12.893219,\"BYN\":2.526327,\"BZD\":2.017144,\"CAD\":1.373006,\"CDF\":2055.965072,\"CHF\":0.935803,\"CLF\":0.031881,\"CLP\":861.6871,\"CNH\":6.962531,\"CNY\":6.956594,\"COP\":4824.78227,\"CRC\":586.773574,\"CUC\":1.000576,\"CUP\":25.744185,\"CVE\":104.528481,\"CZK\":23.037822,\"DJF\":178.105011,\"DKK\":7.06025,\"DOP\":55.010988,\"DZD\":137.969932,\"EGP\":24.561839,\"ERN\":14.996908,\"ETB\":53.516541,\"EUR\":0.948645,\"FJD\":2.194953,\"FKP\":0.816181,\"GBP\":0.81632,\"GEL\":2.660185,\"GGP\":0.815986,\"GHS\":12.981551,\"GIP\":0.816049,\"GMD\":62.410945,\"GNF\":8773.028249,\"GTQ\":7.91327,\"GYD\":209.425813,\"HKD\":7.784959,\"HNL\":24.698224,\"HRK\":7.170973,\"HTG\":142.013311,\"HUF\":397.330524,\"IDR\":15599.492702,\"ILS\":3.418877,\"IMP\":0.816387,\"INR\":82.422862,\"IQD\":1460.210901,\"IRR\":41340.705641,\"ISK\":141.888919,\"JEP\":0.81624,\"JMD\":153.947382,\"JOD\":0.709832,\"JPY\":136.544997,\"KES\":122.908938,\"KGS\":84.931499,\"KHR\":4125.960681,\"KMF\":466.27103,\"KPW\":899.797884,\"KRW\":1303.97723,\"KWD\":0.306855,\"KYD\":0.834264,\"KZT\":470.582014,\"LAK\":17300.78503,\"LBP\":1512.671963,\"LKR\":367.674659,\"LRD\":153.965394,\"LSL\":17.301354,\"LYD\":4.850356,\"MAD\":10.559983,\"MDL\":19.384,\"MGA\":4422.064168,\"MKD\":58.371658,\"MMK\":2100.9939,\"MNT\":3406.199976,\"MOP\":8.019237,\"MRU\":37.898257,\"MUR\":43.661339,\"MVR\":15.346693,\"MWK\":1026.91781,\"MXN\":19.773399,\"MYR\":4.403475,\"MZN\":63.885872,\"NAD\":17.156576,\"NGN\":443.706796,\"NIO\":36.392706,\"NOK\":10.003535,\"NPR\":131.81285,\"NZD\":1.559997,\"OMR\":0.384641,\"PAB\":1.000479,\"PEN\":3.866546,\"PGK\":3.525914,\"PHP\":55.36365,\"PKR\":224.806871,\"PLN\":4.452448,\"PYG\":7144.6997,\"QAR\":3.661402,\"RON\":4.673436,\"RSD\":111.297574,\"RUB\":62.501165,\"RWF\":1072.609769,\"SAR\":3.759978,\"SBD\":8.19619,\"SCR\":13.603907,\"SDG\":571.372157,\"SEK\":10.348795,\"SGD\":1.356214,\"SHP\":0.816078,\"SLL\":17661.029082,\"SOS\":568.781924,\"SRD\":31.585406,\"SSP\":130.231708,\"STD\":22818.860392,\"STN\":23.225346,\"SVC\":8.754995,\"SYP\":2511.964887,\"SZL\":17.301626,\"THB\":34.617494,\"TJS\":10.104804,\"TMT\":3.504505,\"TND\":3.207725,\"TOP\":2.34199,\"TRY\":18.647158,\"TTD\":6.789164,\"TWD\":30.702322,\"TZS\":2333.101178,\"UAH\":36.763398,\"UGX\":3691.757184,\"USD\":1,\"UYU\":39.10377,\"UZS\":11257.439239,\"VES\":13.577551,\"VND\":23794.649643,\"VUV\":118.0175,\"WST\":2.697588,\"XAF\":622.122004,\"XAG\":0.043227,\"XAU\":0.001855,\"XCD\":2.702399,\"XDR\":0.755229,\"XOF\":622.122351,\"XPD\":0.001591,\"XPF\":113.177189,\"XPT\":0.001698,\"YER\":250.194408,\"ZAR\":17.351123,\"ZMW\":17.403712,\"ZWL\":321.928132}}\n"
     ]
    }
   ],
   "source": [
    "print(result.text)"
   ]
  },
  {
   "cell_type": "code",
   "execution_count": 24,
   "id": "7fb960c7",
   "metadata": {},
   "outputs": [],
   "source": [
    "result=json.loads(result.text)"
   ]
  },
  {
   "cell_type": "code",
   "execution_count": 25,
   "id": "972b5628",
   "metadata": {},
   "outputs": [
    {
     "name": "stdout",
     "output_type": "stream",
     "text": [
      "{'motd': {'msg': 'If you or your company use this project or like what we doing, please consider backing us so we can continue maintaining and evolving this project.', 'url': 'https://exchangerate.host/#/donate'}, 'success': True, 'base': 'USD', 'date': '2022-12-11', 'rates': {'AED': 3.67284, 'AFN': 87.469396, 'ALL': 109.680645, 'AMD': 396.061532, 'ANG': 1.803749, 'AOA': 504.05556, 'ARS': 169.891112, 'AUD': 1.47151, 'AWG': 1.79956, 'AZN': 1.700507, 'BAM': 1.854456, 'BBD': 1.999771, 'BDT': 103.398796, 'BGN': 1.854438, 'BHD': 0.376996, 'BIF': 2062.536175, 'BMD': 1.000326, 'BND': 1.352052, 'BOB': 6.91367, 'BRL': 5.237967, 'BSD': 1.000167, 'BTC': 5.8e-05, 'BTN': 82.38278, 'BWP': 12.893219, 'BYN': 2.526327, 'BZD': 2.017144, 'CAD': 1.373006, 'CDF': 2055.965072, 'CHF': 0.935803, 'CLF': 0.031881, 'CLP': 861.6871, 'CNH': 6.962531, 'CNY': 6.956594, 'COP': 4824.78227, 'CRC': 586.773574, 'CUC': 1.000576, 'CUP': 25.744185, 'CVE': 104.528481, 'CZK': 23.037822, 'DJF': 178.105011, 'DKK': 7.06025, 'DOP': 55.010988, 'DZD': 137.969932, 'EGP': 24.561839, 'ERN': 14.996908, 'ETB': 53.516541, 'EUR': 0.948645, 'FJD': 2.194953, 'FKP': 0.816181, 'GBP': 0.81632, 'GEL': 2.660185, 'GGP': 0.815986, 'GHS': 12.981551, 'GIP': 0.816049, 'GMD': 62.410945, 'GNF': 8773.028249, 'GTQ': 7.91327, 'GYD': 209.425813, 'HKD': 7.784959, 'HNL': 24.698224, 'HRK': 7.170973, 'HTG': 142.013311, 'HUF': 397.330524, 'IDR': 15599.492702, 'ILS': 3.418877, 'IMP': 0.816387, 'INR': 82.422862, 'IQD': 1460.210901, 'IRR': 41340.705641, 'ISK': 141.888919, 'JEP': 0.81624, 'JMD': 153.947382, 'JOD': 0.709832, 'JPY': 136.544997, 'KES': 122.908938, 'KGS': 84.931499, 'KHR': 4125.960681, 'KMF': 466.27103, 'KPW': 899.797884, 'KRW': 1303.97723, 'KWD': 0.306855, 'KYD': 0.834264, 'KZT': 470.582014, 'LAK': 17300.78503, 'LBP': 1512.671963, 'LKR': 367.674659, 'LRD': 153.965394, 'LSL': 17.301354, 'LYD': 4.850356, 'MAD': 10.559983, 'MDL': 19.384, 'MGA': 4422.064168, 'MKD': 58.371658, 'MMK': 2100.9939, 'MNT': 3406.199976, 'MOP': 8.019237, 'MRU': 37.898257, 'MUR': 43.661339, 'MVR': 15.346693, 'MWK': 1026.91781, 'MXN': 19.773399, 'MYR': 4.403475, 'MZN': 63.885872, 'NAD': 17.156576, 'NGN': 443.706796, 'NIO': 36.392706, 'NOK': 10.003535, 'NPR': 131.81285, 'NZD': 1.559997, 'OMR': 0.384641, 'PAB': 1.000479, 'PEN': 3.866546, 'PGK': 3.525914, 'PHP': 55.36365, 'PKR': 224.806871, 'PLN': 4.452448, 'PYG': 7144.6997, 'QAR': 3.661402, 'RON': 4.673436, 'RSD': 111.297574, 'RUB': 62.501165, 'RWF': 1072.609769, 'SAR': 3.759978, 'SBD': 8.19619, 'SCR': 13.603907, 'SDG': 571.372157, 'SEK': 10.348795, 'SGD': 1.356214, 'SHP': 0.816078, 'SLL': 17661.029082, 'SOS': 568.781924, 'SRD': 31.585406, 'SSP': 130.231708, 'STD': 22818.860392, 'STN': 23.225346, 'SVC': 8.754995, 'SYP': 2511.964887, 'SZL': 17.301626, 'THB': 34.617494, 'TJS': 10.104804, 'TMT': 3.504505, 'TND': 3.207725, 'TOP': 2.34199, 'TRY': 18.647158, 'TTD': 6.789164, 'TWD': 30.702322, 'TZS': 2333.101178, 'UAH': 36.763398, 'UGX': 3691.757184, 'USD': 1, 'UYU': 39.10377, 'UZS': 11257.439239, 'VES': 13.577551, 'VND': 23794.649643, 'VUV': 118.0175, 'WST': 2.697588, 'XAF': 622.122004, 'XAG': 0.043227, 'XAU': 0.001855, 'XCD': 2.702399, 'XDR': 0.755229, 'XOF': 622.122351, 'XPD': 0.001591, 'XPF': 113.177189, 'XPT': 0.001698, 'YER': 250.194408, 'ZAR': 17.351123, 'ZMW': 17.403712, 'ZWL': 321.928132}}\n"
     ]
    }
   ],
   "source": [
    "print(result)"
   ]
  },
  {
   "cell_type": "code",
   "execution_count": 26,
   "id": "51236bc3",
   "metadata": {},
   "outputs": [
    {
     "name": "stdout",
     "output_type": "stream",
     "text": [
      "1USD=18.647158 TRY\n"
     ]
    }
   ],
   "source": [
    "print(\"1{0}={1} {2}\".format(given_currency,result[\"rates\"][received_currency],received_currency))"
   ]
  },
  {
   "cell_type": "code",
   "execution_count": 27,
   "id": "43697cd2",
   "metadata": {},
   "outputs": [
    {
     "name": "stdout",
     "output_type": "stream",
     "text": [
      "20 USD = 372.94316000000003 TRY\n"
     ]
    }
   ],
   "source": [
    "print(\"{0} {1} = {2} {3}\".format(quantity,given_currency,quantity*result[\"rates\"][received_currency],received_currency))"
   ]
  },
  {
   "cell_type": "code",
   "execution_count": null,
   "id": "9a8adbf6",
   "metadata": {},
   "outputs": [],
   "source": []
  }
 ],
 "metadata": {
  "kernelspec": {
   "display_name": "Python 3 (ipykernel)",
   "language": "python",
   "name": "python3"
  },
  "language_info": {
   "codemirror_mode": {
    "name": "ipython",
    "version": 3
   },
   "file_extension": ".py",
   "mimetype": "text/x-python",
   "name": "python",
   "nbconvert_exporter": "python",
   "pygments_lexer": "ipython3",
   "version": "3.9.13"
  }
 },
 "nbformat": 4,
 "nbformat_minor": 5
}
