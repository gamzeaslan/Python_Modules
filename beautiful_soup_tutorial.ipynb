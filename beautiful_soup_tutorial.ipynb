{
  "nbformat": 4,
  "nbformat_minor": 0,
  "metadata": {
    "colab": {
      "provenance": []
    },
    "kernelspec": {
      "name": "python3",
      "display_name": "Python 3"
    },
    "language_info": {
      "name": "python"
    }
  },
  "cells": [
    {
      "cell_type": "code",
      "source": [
        "from bs4 import BeautifulSoup"
      ],
      "metadata": {
        "id": "bhdb0grZOCtu"
      },
      "execution_count": 20,
      "outputs": []
    },
    {
      "cell_type": "code",
      "source": [
        "html_doc=\"\"\"\n",
        "<!DOCTYPE html>\n",
        "<html lang=\"en\">\n",
        "<head>\n",
        "<meta charset=\"UTF-8\">\n",
        "    <meta http-equiv=\"X-UA-Compatible\" content=\"IE=edge\">\n",
        "    <meta name=\"viewport\" content=\"width=device-width, initial-scale=1.0\">\n",
        "    <title>My First Web Page</title>\n",
        "</head>\n",
        "<body>\n",
        "\n",
        "<h1 id=\"header\"> \n",
        "    Python Course\n",
        "   </h1> \n",
        "   <div class=\"group 1\">\n",
        "        <h2>\n",
        "        Programming \n",
        "        </h2>\n",
        "        \n",
        "        <ul>\n",
        "            <li>Menu 1</li>\n",
        "            <li>Menu 2</li>\n",
        "            <li>Menu 3</li>\n",
        "        </ul>\n",
        "   </div>\n",
        "   <div class=\"group 2\">\n",
        "   \n",
        "        <h2>\n",
        "            Modules\n",
        "         </h2>\n",
        "\n",
        "\n",
        "        <ul>\n",
        "            <li>Menu 1</li>\n",
        "            <li>Menu 2</li>\n",
        "            <li>Menu 3</li>\n",
        "        </ul>\n",
        "    \n",
        "</div>\n",
        "</body>\n",
        "</html>\n",
        "\"\"\""
      ],
      "metadata": {
        "id": "HS2cYJlGOjAE"
      },
      "execution_count": 21,
      "outputs": []
    },
    {
      "cell_type": "code",
      "source": [
        "soup= BeautifulSoup(html_doc,\"html.parser\")\n",
        "result=soup.prettify()#html editing\n",
        "print(result)"
      ],
      "metadata": {
        "colab": {
          "base_uri": "https://localhost:8080/"
        },
        "id": "RM7CMPjyTgEo",
        "outputId": "babeed81-d8db-41d6-b1b8-113fea6df2c1"
      },
      "execution_count": 22,
      "outputs": [
        {
          "output_type": "stream",
          "name": "stdout",
          "text": [
            "<!DOCTYPE html>\n",
            "<html lang=\"en\">\n",
            " <head>\n",
            "  <meta charset=\"utf-8\"/>\n",
            "  <meta content=\"IE=edge\" http-equiv=\"X-UA-Compatible\"/>\n",
            "  <meta content=\"width=device-width, initial-scale=1.0\" name=\"viewport\"/>\n",
            "  <title>\n",
            "   My First Web Page\n",
            "  </title>\n",
            " </head>\n",
            " <body>\n",
            "  <h1 id=\"header\">\n",
            "   Python Course\n",
            "  </h1>\n",
            "  <div class=\"group 1\">\n",
            "   <h2>\n",
            "    Programming\n",
            "   </h2>\n",
            "   <ul>\n",
            "    <li>\n",
            "     Menu 1\n",
            "    </li>\n",
            "    <li>\n",
            "     Menu 2\n",
            "    </li>\n",
            "    <li>\n",
            "     Menu 3\n",
            "    </li>\n",
            "   </ul>\n",
            "  </div>\n",
            "  <div class=\"group 2\">\n",
            "   <h2>\n",
            "    Modules\n",
            "   </h2>\n",
            "   <ul>\n",
            "    <li>\n",
            "     Menu 1\n",
            "    </li>\n",
            "    <li>\n",
            "     Menu 2\n",
            "    </li>\n",
            "    <li>\n",
            "     Menu 3\n",
            "    </li>\n",
            "   </ul>\n",
            "  </div>\n",
            " </body>\n",
            "</html>\n",
            "\n"
          ]
        }
      ]
    },
    {
      "cell_type": "code",
      "source": [
        "result=soup.title"
      ],
      "metadata": {
        "id": "eFMIfwRLTh7g"
      },
      "execution_count": 23,
      "outputs": []
    },
    {
      "cell_type": "code",
      "source": [
        "print(result)"
      ],
      "metadata": {
        "colab": {
          "base_uri": "https://localhost:8080/"
        },
        "id": "cch4vjt-T86v",
        "outputId": "107701c1-5e43-45f8-d568-14ce4db1c0ce"
      },
      "execution_count": 24,
      "outputs": [
        {
          "output_type": "stream",
          "name": "stdout",
          "text": [
            "<title>My First Web Page</title>\n"
          ]
        }
      ]
    },
    {
      "cell_type": "code",
      "source": [
        "print(soup.head)"
      ],
      "metadata": {
        "colab": {
          "base_uri": "https://localhost:8080/"
        },
        "id": "WqWQcUEjT_CU",
        "outputId": "b76d046c-84ae-49b4-a1b8-20660f799b74"
      },
      "execution_count": 25,
      "outputs": [
        {
          "output_type": "stream",
          "name": "stdout",
          "text": [
            "<head>\n",
            "<meta charset=\"utf-8\"/>\n",
            "<meta content=\"IE=edge\" http-equiv=\"X-UA-Compatible\"/>\n",
            "<meta content=\"width=device-width, initial-scale=1.0\" name=\"viewport\"/>\n",
            "<title>My First Web Page</title>\n",
            "</head>\n"
          ]
        }
      ]
    },
    {
      "cell_type": "code",
      "source": [
        "print(soup.body)"
      ],
      "metadata": {
        "colab": {
          "base_uri": "https://localhost:8080/"
        },
        "id": "VNZUqL_6UCRj",
        "outputId": "5c7ea6e6-a1df-491d-a981-22e321c59070"
      },
      "execution_count": 26,
      "outputs": [
        {
          "output_type": "stream",
          "name": "stdout",
          "text": [
            "<body>\n",
            "<h1 id=\"header\"> \n",
            "    Python Course\n",
            "   </h1>\n",
            "<div class=\"group 1\">\n",
            "<h2>\n",
            "        Programming \n",
            "        </h2>\n",
            "<ul>\n",
            "<li>Menu 1</li>\n",
            "<li>Menu 2</li>\n",
            "<li>Menu 3</li>\n",
            "</ul>\n",
            "</div>\n",
            "<div class=\"group 2\">\n",
            "<h2>\n",
            "            Modules\n",
            "         </h2>\n",
            "<ul>\n",
            "<li>Menu 1</li>\n",
            "<li>Menu 2</li>\n",
            "<li>Menu 3</li>\n",
            "</ul>\n",
            "</div>\n",
            "</body>\n"
          ]
        }
      ]
    },
    {
      "cell_type": "code",
      "source": [
        "print(soup.title.name)"
      ],
      "metadata": {
        "colab": {
          "base_uri": "https://localhost:8080/"
        },
        "id": "jT47SxyhUFS2",
        "outputId": "9183c2e3-1e93-4da5-e62a-3e72bb960223"
      },
      "execution_count": 27,
      "outputs": [
        {
          "output_type": "stream",
          "name": "stdout",
          "text": [
            "title\n"
          ]
        }
      ]
    },
    {
      "cell_type": "code",
      "source": [
        "print(soup.title.string)"
      ],
      "metadata": {
        "colab": {
          "base_uri": "https://localhost:8080/"
        },
        "id": "Kphp0CFxUbqe",
        "outputId": "045014b9-a288-4642-fca1-1256f8d9303c"
      },
      "execution_count": 28,
      "outputs": [
        {
          "output_type": "stream",
          "name": "stdout",
          "text": [
            "My First Web Page\n"
          ]
        }
      ]
    },
    {
      "cell_type": "code",
      "source": [
        "print(soup.h1)"
      ],
      "metadata": {
        "colab": {
          "base_uri": "https://localhost:8080/"
        },
        "id": "qUz_-lVzUiQv",
        "outputId": "4174483d-4334-4e48-fa97-56889c841040"
      },
      "execution_count": 29,
      "outputs": [
        {
          "output_type": "stream",
          "name": "stdout",
          "text": [
            "<h1 id=\"header\"> \n",
            "    Python Course\n",
            "   </h1>\n"
          ]
        }
      ]
    },
    {
      "cell_type": "code",
      "source": [
        "print(soup.h2)"
      ],
      "metadata": {
        "colab": {
          "base_uri": "https://localhost:8080/"
        },
        "id": "DzE4Nr-LUmtn",
        "outputId": "60c5cf7b-4a32-4c83-e9ec-9589dbf62f4b"
      },
      "execution_count": 30,
      "outputs": [
        {
          "output_type": "stream",
          "name": "stdout",
          "text": [
            "<h2>\n",
            "        Programming \n",
            "        </h2>\n"
          ]
        }
      ]
    },
    {
      "cell_type": "code",
      "source": [
        "print(soup.h2.name)"
      ],
      "metadata": {
        "colab": {
          "base_uri": "https://localhost:8080/"
        },
        "id": "q5yb5GhzUpUA",
        "outputId": "e6f2c194-0a44-4fc3-9a01-9033c01737c1"
      },
      "execution_count": 31,
      "outputs": [
        {
          "output_type": "stream",
          "name": "stdout",
          "text": [
            "h2\n"
          ]
        }
      ]
    },
    {
      "cell_type": "code",
      "source": [
        "print(soup.h2.string)"
      ],
      "metadata": {
        "colab": {
          "base_uri": "https://localhost:8080/"
        },
        "id": "F5rlmqPdU3xc",
        "outputId": "98a5b3b2-cd20-4165-e902-5fb9173a0ee5"
      },
      "execution_count": 33,
      "outputs": [
        {
          "output_type": "stream",
          "name": "stdout",
          "text": [
            "\n",
            "        Programming \n",
            "        \n"
          ]
        }
      ]
    },
    {
      "cell_type": "code",
      "source": [
        "print(soup.find_all(\"h2\"))#all h2 tickets"
      ],
      "metadata": {
        "colab": {
          "base_uri": "https://localhost:8080/"
        },
        "id": "fB2PTOWlU6ID",
        "outputId": "9807ddfa-55d3-4497-8c2b-709804108729"
      },
      "execution_count": 35,
      "outputs": [
        {
          "output_type": "stream",
          "name": "stdout",
          "text": [
            "[<h2>\n",
            "        Programming \n",
            "        </h2>, <h2>\n",
            "            Modules\n",
            "         </h2>]\n"
          ]
        }
      ]
    },
    {
      "cell_type": "code",
      "source": [
        "print(type(soup.find_all(\"h2\")))"
      ],
      "metadata": {
        "colab": {
          "base_uri": "https://localhost:8080/"
        },
        "id": "1P-lpzKNVTdi",
        "outputId": "788208e1-c1ad-4ae4-e4a0-2763701a5b08"
      },
      "execution_count": 37,
      "outputs": [
        {
          "output_type": "stream",
          "name": "stdout",
          "text": [
            "<class 'bs4.element.ResultSet'>\n"
          ]
        }
      ]
    },
    {
      "cell_type": "code",
      "source": [
        "print(soup.find_all(\"h2\")[0])"
      ],
      "metadata": {
        "colab": {
          "base_uri": "https://localhost:8080/"
        },
        "id": "VssGlPHoVkqX",
        "outputId": "8036f3b3-28e9-478d-ec6f-d426aa802c52"
      },
      "execution_count": 39,
      "outputs": [
        {
          "output_type": "stream",
          "name": "stdout",
          "text": [
            "<h2>\n",
            "        Programming \n",
            "        </h2>\n"
          ]
        }
      ]
    },
    {
      "cell_type": "code",
      "source": [
        "print(soup.find_all(\"h2\")[1])"
      ],
      "metadata": {
        "colab": {
          "base_uri": "https://localhost:8080/"
        },
        "id": "I8LGoz7MVrza",
        "outputId": "e124b528-7e1b-4f38-fc73-3d3c13866738"
      },
      "execution_count": 40,
      "outputs": [
        {
          "output_type": "stream",
          "name": "stdout",
          "text": [
            "<h2>\n",
            "            Modules\n",
            "         </h2>\n"
          ]
        }
      ]
    },
    {
      "cell_type": "code",
      "source": [
        "print(soup.div)"
      ],
      "metadata": {
        "colab": {
          "base_uri": "https://localhost:8080/"
        },
        "id": "NKo7e5SnVvhd",
        "outputId": "75be6270-ac6d-470f-a743-f13a5ff7ac67"
      },
      "execution_count": 41,
      "outputs": [
        {
          "output_type": "stream",
          "name": "stdout",
          "text": [
            "<div class=\"group 1\">\n",
            "<h2>\n",
            "        Programming \n",
            "        </h2>\n",
            "<ul>\n",
            "<li>Menu 1</li>\n",
            "<li>Menu 2</li>\n",
            "<li>Menu 3</li>\n",
            "</ul>\n",
            "</div>\n"
          ]
        }
      ]
    },
    {
      "cell_type": "code",
      "source": [
        "print(soup.find_all(\"div\"))"
      ],
      "metadata": {
        "colab": {
          "base_uri": "https://localhost:8080/"
        },
        "id": "dGfb_7kYV2PS",
        "outputId": "21423262-b24c-4913-8780-66898db78ad6"
      },
      "execution_count": 45,
      "outputs": [
        {
          "output_type": "stream",
          "name": "stdout",
          "text": [
            "[<div class=\"group 1\">\n",
            "<h2>\n",
            "        Programming \n",
            "        </h2>\n",
            "<ul>\n",
            "<li>Menu 1</li>\n",
            "<li>Menu 2</li>\n",
            "<li>Menu 3</li>\n",
            "</ul>\n",
            "</div>, <div class=\"group 2\">\n",
            "<h2>\n",
            "            Modules\n",
            "         </h2>\n",
            "<ul>\n",
            "<li>Menu 1</li>\n",
            "<li>Menu 2</li>\n",
            "<li>Menu 3</li>\n",
            "</ul>\n",
            "</div>]\n"
          ]
        }
      ]
    },
    {
      "cell_type": "code",
      "source": [
        "print(soup.find_all(\"div\")[0])"
      ],
      "metadata": {
        "colab": {
          "base_uri": "https://localhost:8080/"
        },
        "id": "NRgFBqhDV6K1",
        "outputId": "c1783db1-1309-476b-9b2d-e35c691aa0f4"
      },
      "execution_count": 46,
      "outputs": [
        {
          "output_type": "stream",
          "name": "stdout",
          "text": [
            "<div class=\"group 1\">\n",
            "<h2>\n",
            "        Programming \n",
            "        </h2>\n",
            "<ul>\n",
            "<li>Menu 1</li>\n",
            "<li>Menu 2</li>\n",
            "<li>Menu 3</li>\n",
            "</ul>\n",
            "</div>\n"
          ]
        }
      ]
    },
    {
      "cell_type": "code",
      "source": [
        "print(soup.find_all(\"div\")[1])"
      ],
      "metadata": {
        "colab": {
          "base_uri": "https://localhost:8080/"
        },
        "id": "GkYoouirWCFm",
        "outputId": "f3b9d787-c769-448f-d5a7-fdb517bd8bb6"
      },
      "execution_count": 47,
      "outputs": [
        {
          "output_type": "stream",
          "name": "stdout",
          "text": [
            "<div class=\"group 2\">\n",
            "<h2>\n",
            "            Modules\n",
            "         </h2>\n",
            "<ul>\n",
            "<li>Menu 1</li>\n",
            "<li>Menu 2</li>\n",
            "<li>Menu 3</li>\n",
            "</ul>\n",
            "</div>\n"
          ]
        }
      ]
    },
    {
      "cell_type": "code",
      "source": [
        "print(soup.find_all(\"div\")[1].ul.li)"
      ],
      "metadata": {
        "colab": {
          "base_uri": "https://localhost:8080/"
        },
        "id": "kZl0J6XEWEMK",
        "outputId": "3a8c7837-8f95-4ea4-deee-f94900d040b4"
      },
      "execution_count": 52,
      "outputs": [
        {
          "output_type": "stream",
          "name": "stdout",
          "text": [
            "<li>Menu 1</li>\n"
          ]
        }
      ]
    },
    {
      "cell_type": "code",
      "source": [
        "print(soup.find_all(\"div\")[1].ul.find_all(\"li\"))"
      ],
      "metadata": {
        "colab": {
          "base_uri": "https://localhost:8080/"
        },
        "id": "-TgTNuS0Wm4c",
        "outputId": "c3368462-74ea-4626-994f-96ed87fa4a2c"
      },
      "execution_count": 56,
      "outputs": [
        {
          "output_type": "stream",
          "name": "stdout",
          "text": [
            "[<li>Menu 1</li>, <li>Menu 2</li>, <li>Menu 3</li>]\n"
          ]
        }
      ]
    },
    {
      "cell_type": "code",
      "source": [
        "print(soup.find_all(\"div\")[1].ul.find_all(\"li\")[0])"
      ],
      "metadata": {
        "colab": {
          "base_uri": "https://localhost:8080/"
        },
        "id": "DxW_75TwWUnm",
        "outputId": "3d844a39-af60-40c4-b3a1-47b974aa7bf5"
      },
      "execution_count": 53,
      "outputs": [
        {
          "output_type": "stream",
          "name": "stdout",
          "text": [
            "<li>Menu 1</li>\n"
          ]
        }
      ]
    },
    {
      "cell_type": "code",
      "source": [
        "print(soup.find_all(\"div\")[1].ul.find_all(\"li\")[1])"
      ],
      "metadata": {
        "colab": {
          "base_uri": "https://localhost:8080/"
        },
        "id": "njsdRetZWgwQ",
        "outputId": "159b0431-404b-43fa-839c-9bbeed310d76"
      },
      "execution_count": 54,
      "outputs": [
        {
          "output_type": "stream",
          "name": "stdout",
          "text": [
            "<li>Menu 2</li>\n"
          ]
        }
      ]
    },
    {
      "cell_type": "code",
      "source": [
        "print(soup.find_all(\"div\")[1].ul.find_all(\"li\")[2])"
      ],
      "metadata": {
        "colab": {
          "base_uri": "https://localhost:8080/"
        },
        "id": "AuStTOSoWi0y",
        "outputId": "9ae46eac-70ae-461f-a4c4-85d148384a26"
      },
      "execution_count": 57,
      "outputs": [
        {
          "output_type": "stream",
          "name": "stdout",
          "text": [
            "<li>Menu 3</li>\n"
          ]
        }
      ]
    },
    {
      "cell_type": "code",
      "source": [
        "print(soup.div.findChildren())#returns all child elements"
      ],
      "metadata": {
        "colab": {
          "base_uri": "https://localhost:8080/"
        },
        "id": "xKoky6f6WxWl",
        "outputId": "a77471e7-cc85-4c07-c60f-06d314a671da"
      },
      "execution_count": 59,
      "outputs": [
        {
          "output_type": "stream",
          "name": "stdout",
          "text": [
            "[<h2>\n",
            "        Programming \n",
            "        </h2>, <ul>\n",
            "<li>Menu 1</li>\n",
            "<li>Menu 2</li>\n",
            "<li>Menu 3</li>\n",
            "</ul>, <li>Menu 1</li>, <li>Menu 2</li>, <li>Menu 3</li>]\n"
          ]
        }
      ]
    },
    {
      "cell_type": "code",
      "source": [
        "#sibling ticket-->aynı hizadaki etiketler kardeş etiketlerdir"
      ],
      "metadata": {
        "id": "rh5ZSCUQXFHW"
      },
      "execution_count": 61,
      "outputs": []
    },
    {
      "cell_type": "code",
      "source": [
        "print(soup.div)"
      ],
      "metadata": {
        "colab": {
          "base_uri": "https://localhost:8080/"
        },
        "id": "K-BuKVDlXbJr",
        "outputId": "aa07a8bb-4b04-4f0a-e09a-645497c6db14"
      },
      "execution_count": 62,
      "outputs": [
        {
          "output_type": "stream",
          "name": "stdout",
          "text": [
            "<div class=\"group 1\">\n",
            "<h2>\n",
            "        Programming \n",
            "        </h2>\n",
            "<ul>\n",
            "<li>Menu 1</li>\n",
            "<li>Menu 2</li>\n",
            "<li>Menu 3</li>\n",
            "</ul>\n",
            "</div>\n"
          ]
        }
      ]
    },
    {
      "cell_type": "code",
      "source": [
        "print(soup.div.findNextSibling())"
      ],
      "metadata": {
        "colab": {
          "base_uri": "https://localhost:8080/"
        },
        "id": "vp7w0Vm7X2da",
        "outputId": "ea2cf009-5e74-4ea6-a9ac-2d61fdfc6570"
      },
      "execution_count": 64,
      "outputs": [
        {
          "output_type": "stream",
          "name": "stdout",
          "text": [
            "<div class=\"group 2\">\n",
            "<h2>\n",
            "            Modules\n",
            "         </h2>\n",
            "<ul>\n",
            "<li>Menu 1</li>\n",
            "<li>Menu 2</li>\n",
            "<li>Menu 3</li>\n",
            "</ul>\n",
            "</div>\n"
          ]
        }
      ]
    },
    {
      "cell_type": "code",
      "source": [
        "print(soup.div.findPreviousSibling())"
      ],
      "metadata": {
        "colab": {
          "base_uri": "https://localhost:8080/"
        },
        "id": "DfnypBQ_X5gh",
        "outputId": "5468f875-169b-4c3a-f8cc-10800e5ab423"
      },
      "execution_count": 66,
      "outputs": [
        {
          "output_type": "stream",
          "name": "stdout",
          "text": [
            "<h1 id=\"header\"> \n",
            "    Python Course\n",
            "   </h1>\n"
          ]
        }
      ]
    },
    {
      "cell_type": "code",
      "source": [],
      "metadata": {
        "id": "9qFr-UohYW4a"
      },
      "execution_count": null,
      "outputs": []
    }
  ]
}